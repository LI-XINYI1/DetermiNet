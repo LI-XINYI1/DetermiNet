{
 "cells": [
  {
   "cell_type": "code",
   "execution_count": 140,
   "metadata": {},
   "outputs": [],
   "source": [
    "import os \n",
    "import cv2\n",
    "import pandas as pd \n",
    "import math\n",
    "from collections import defaultdict\n",
    "import inflection as inf"
   ]
  },
  {
   "cell_type": "code",
   "execution_count": 128,
   "metadata": {},
   "outputs": [],
   "source": [
    "folder = \"realNotFruit\"\n",
    "prefix = \"diffobj\"\n",
    "resized_img_dir = f\"{prefix}_resized_images\"\n",
    "duplicate_images_dir = f\"{prefix}_duplicate_images\"\n",
    "det_ann_filename = \"diffobject_ann.csv\""
   ]
  },
  {
   "cell_type": "code",
   "execution_count": 129,
   "metadata": {},
   "outputs": [],
   "source": [
    "\n",
    "dim = 256\n",
    "\n",
    "images = os.listdir(folder)\n",
    "\n",
    "name_map = {}\n",
    "coco_name_map = {}\n",
    "\n",
    "if not os.path.exists(resized_img_dir):\n",
    "    os.mkdir(resized_img_dir)\n",
    "\n",
    "for i, image in enumerate(images):\n",
    "    img = cv2.imread(folder + \"/\" + image)\n",
    "    h, w, _ = img.shape\n",
    "    max_dim = max(h, w)\n",
    "    pad_h = (max_dim - h) // 2\n",
    "    pad_w = (max_dim - w) // 2\n",
    "    padded_img = cv2.copyMakeBorder(img, pad_h, pad_h, pad_w, pad_w, cv2.BORDER_CONSTANT, value=[0, 0, 0])\n",
    "    resized_img = cv2.resize(padded_img, (dim, dim))\n",
    "    name_map[str(i).zfill(6) + \".jpg\"] = image\n",
    "    coco_name_map[image] = str(i).zfill(6) + \".jpg\"\n",
    "    cv2.imwrite(resized_img_dir + \"/\" + str(i).zfill(6) + \".jpg\", resized_img)\n"
   ]
  },
  {
   "attachments": {},
   "cell_type": "markdown",
   "metadata": {},
   "source": [
    "### Format determiner annotation"
   ]
  },
  {
   "cell_type": "code",
   "execution_count": 130,
   "metadata": {},
   "outputs": [
    {
     "name": "stdout",
     "output_type": "stream",
     "text": [
      "    coco_id  counts                                           captions\n",
      "0        63       8  a person, a baseball bat, a sport ball, every ...\n",
      "1       968       7  a cat, some cats, all cats, any cat, either ca...\n",
      "2      1385       8  a bird, all birds, those birds, these birds, f...\n",
      "3      1730       8  a person, a sport ball, a baseball glove, all ...\n",
      "4      2427      11  a person,all persons, every person, each perso...\n",
      "5      6069       6  a bird, all birds, those birds, these birds, e...\n",
      "6      6947       9  a person, all persons, every person, each pers...\n",
      "7      7754       4              a person, a cat, a keyboard, a laptop\n",
      "8    261972       9  a person, a horse, all horses, any horse, ever...\n",
      "9    262186       8  a cat, a bench, some cats, all cats, any cat, ...\n",
      "10   262291       3                       a person, a stop sign, a hat\n"
     ]
    }
   ],
   "source": [
    "ann_dir = \"./\"\n",
    "\n",
    "df = pd.read_csv(os.path.join(ann_dir, det_ann_filename))\n",
    "pad = 12 \n",
    "print(df)\n",
    "\n",
    "counts = {}\n",
    "captions_map = defaultdict(list)\n",
    "\n",
    "for i, row in df.iterrows():\n",
    "    if not math.isnan(row[\"coco_id\"]): \n",
    "        coco_filename = str(int(row[\"coco_id\"])).zfill(pad) + \".jpg\"\n",
    "        image_file = coco_name_map[coco_filename]\n",
    "        captions = row[\"captions\"].split(\",\")\n",
    "        captions_map[image_file] = captions\n",
    "    else: \n",
    "        coco_filename = None\n",
    "\n"
   ]
  },
  {
   "attachments": {},
   "cell_type": "markdown",
   "metadata": {},
   "source": [
    "### duplicate images\n",
    "\n"
   ]
  },
  {
   "cell_type": "code",
   "execution_count": 131,
   "metadata": {},
   "outputs": [],
   "source": [
    "df = pd.DataFrame(columns=[\"image\", \"coco_filename\", \"count\"])\n",
    "df[\"image\"] = os.listdir(\"resized_images\")\n",
    "df[\"coco_filename\"] = df[\"image\"].map(name_map)\n",
    "df[\"count\"] = 1\n",
    "\n",
    "df.to_csv(f\"{prefix}_counts_template.csv\", index=False)"
   ]
  },
  {
   "cell_type": "code",
   "execution_count": 132,
   "metadata": {},
   "outputs": [
    {
     "data": {
      "text/plain": [
       "['a bird',\n",
       " ' all birds',\n",
       " ' those birds',\n",
       " ' these birds',\n",
       " ' few birds',\n",
       " ' every bird',\n",
       " ' each bird',\n",
       " ' several birds']"
      ]
     },
     "execution_count": 132,
     "metadata": {},
     "output_type": "execute_result"
    }
   ],
   "source": [
    "captions_map[\"000002.jpg\"]"
   ]
  },
  {
   "cell_type": "code",
   "execution_count": 133,
   "metadata": {},
   "outputs": [
    {
     "name": "stdout",
     "output_type": "stream",
     "text": [
      "         image     coco_filename  count\n",
      "0   000000.jpg  000000000063.jpg      8\n",
      "1   000001.jpg  000000000968.jpg      7\n",
      "2   000002.jpg  000000001385.jpg      8\n",
      "3   000003.jpg  000000001730.jpg      8\n",
      "4   000004.jpg  000000002427.jpg     11\n",
      "5   000005.jpg  000000006069.jpg      6\n",
      "6   000006.jpg  000000006947.jpg      9\n",
      "7   000007.jpg  000000007101.jpg      0\n",
      "8   000008.jpg  000000007754.jpg      4\n",
      "9   000009.jpg  000000008221.jpg      0\n",
      "10  000010.jpg  000000261972.jpg      9\n",
      "11  000011.jpg  000000262186.jpg      8\n",
      "12  000012.jpg  000000262291.jpg      3\n",
      "13  000013.jpg  000000262567.jpg      0\n",
      "14  000014.jpg  000000262593.jpg      0\n",
      "15  000015.jpg  000000262615.jpg      0\n",
      "16  000016.jpg  000000262647.jpg      0\n",
      "17  000017.jpg  000000262730.jpg      0\n",
      "18  000018.jpg  000000262920.jpg      0\n",
      "19  000019.jpg  000000262982.jpg      0\n",
      "20  000020.jpg  000000263059.jpg      0\n",
      "21  000021.jpg  000000263217.jpg      0\n",
      "22  000022.jpg  000000263337.jpg      0\n",
      "23  000023.jpg  000000264368.jpg      0\n",
      "24  000024.jpg  000000264453.jpg      0\n",
      "25  000025.jpg  000000264458.jpg      0\n",
      "26  000026.jpg  000000264841.jpg      0\n",
      "27  000027.jpg  000000264876.jpg      0\n",
      "28  000028.jpg  000000265371.jpg      0\n",
      "29  000029.jpg  000000265376.jpg      0\n",
      "30  000030.jpg  000000265878.jpg      0\n"
     ]
    }
   ],
   "source": [
    "df = pd.read_csv(f\"{prefix}_counts_template.csv\")\n",
    "df[\"count\"] = df.apply(lambda row: len(captions_map[row[\"image\"]]), axis=1)\n",
    "print(df)\n",
    "df.to_csv(f\"{prefix}_counts.csv\", index=False)"
   ]
  },
  {
   "cell_type": "code",
   "execution_count": 134,
   "metadata": {},
   "outputs": [],
   "source": [
    "if not os.path.exists(duplicate_images_dir): \n",
    "    os.mkdir(duplicate_images_dir)\n",
    "\n",
    "import pandas as pd\n",
    "import shutil\n",
    "\n",
    "df = pd.read_csv(f\"{prefix}_counts.csv\")\n",
    "\n",
    "image_filenames = []\n",
    "image_captions = []\n",
    "\n",
    "for i, row in df.iterrows():\n",
    "    image = row[\"image\"]\n",
    "    count = row[\"count\"]\n",
    "    for j in range(count):\n",
    "        shutil.copy(resized_img_dir + \"/\" + image, duplicate_images_dir + \"/\" + str(i).zfill(6) + \"-\" + str(j).zfill(2) + \".jpg\")\n",
    "        image_filenames.append(str(i).zfill(6) + \"-\" + str(j).zfill(2) + \".jpg\") \n",
    "        image_captions.append(captions_map[image][j])\n",
    "\n",
    "\n"
   ]
  },
  {
   "cell_type": "code",
   "execution_count": 135,
   "metadata": {},
   "outputs": [
    {
     "ename": "PermissionError",
     "evalue": "[Errno 13] Permission denied: 'diffobj_annotations.csv'",
     "output_type": "error",
     "traceback": [
      "\u001b[1;31m---------------------------------------------------------------------------\u001b[0m",
      "\u001b[1;31mPermissionError\u001b[0m                           Traceback (most recent call last)",
      "Cell \u001b[1;32mIn[135], line 4\u001b[0m\n\u001b[0;32m      2\u001b[0m df[\u001b[39m\"\u001b[39m\u001b[39mimage\u001b[39m\u001b[39m\"\u001b[39m] \u001b[39m=\u001b[39m image_filenames\n\u001b[0;32m      3\u001b[0m df[\u001b[39m\"\u001b[39m\u001b[39mcaption\u001b[39m\u001b[39m\"\u001b[39m] \u001b[39m=\u001b[39m image_captions\n\u001b[1;32m----> 4\u001b[0m df\u001b[39m.\u001b[39;49mto_csv(\u001b[39mf\u001b[39;49m\u001b[39m\"\u001b[39;49m\u001b[39m{\u001b[39;49;00mprefix\u001b[39m}\u001b[39;49;00m\u001b[39m_annotations.csv\u001b[39;49m\u001b[39m\"\u001b[39;49m, index\u001b[39m=\u001b[39;49m\u001b[39mFalse\u001b[39;49;00m)\n",
      "File \u001b[1;32mc:\\users\\clshe\\documents\\python-envs\\ai_env\\lib\\site-packages\\pandas\\util\\_decorators.py:211\u001b[0m, in \u001b[0;36mdeprecate_kwarg.<locals>._deprecate_kwarg.<locals>.wrapper\u001b[1;34m(*args, **kwargs)\u001b[0m\n\u001b[0;32m    209\u001b[0m     \u001b[39melse\u001b[39;00m:\n\u001b[0;32m    210\u001b[0m         kwargs[new_arg_name] \u001b[39m=\u001b[39m new_arg_value\n\u001b[1;32m--> 211\u001b[0m \u001b[39mreturn\u001b[39;00m func(\u001b[39m*\u001b[39margs, \u001b[39m*\u001b[39m\u001b[39m*\u001b[39mkwargs)\n",
      "File \u001b[1;32mc:\\users\\clshe\\documents\\python-envs\\ai_env\\lib\\site-packages\\pandas\\core\\generic.py:3720\u001b[0m, in \u001b[0;36mNDFrame.to_csv\u001b[1;34m(self, path_or_buf, sep, na_rep, float_format, columns, header, index, index_label, mode, encoding, compression, quoting, quotechar, lineterminator, chunksize, date_format, doublequote, escapechar, decimal, errors, storage_options)\u001b[0m\n\u001b[0;32m   3709\u001b[0m df \u001b[39m=\u001b[39m \u001b[39mself\u001b[39m \u001b[39mif\u001b[39;00m \u001b[39misinstance\u001b[39m(\u001b[39mself\u001b[39m, ABCDataFrame) \u001b[39melse\u001b[39;00m \u001b[39mself\u001b[39m\u001b[39m.\u001b[39mto_frame()\n\u001b[0;32m   3711\u001b[0m formatter \u001b[39m=\u001b[39m DataFrameFormatter(\n\u001b[0;32m   3712\u001b[0m     frame\u001b[39m=\u001b[39mdf,\n\u001b[0;32m   3713\u001b[0m     header\u001b[39m=\u001b[39mheader,\n\u001b[1;32m   (...)\u001b[0m\n\u001b[0;32m   3717\u001b[0m     decimal\u001b[39m=\u001b[39mdecimal,\n\u001b[0;32m   3718\u001b[0m )\n\u001b[1;32m-> 3720\u001b[0m \u001b[39mreturn\u001b[39;00m DataFrameRenderer(formatter)\u001b[39m.\u001b[39;49mto_csv(\n\u001b[0;32m   3721\u001b[0m     path_or_buf,\n\u001b[0;32m   3722\u001b[0m     lineterminator\u001b[39m=\u001b[39;49mlineterminator,\n\u001b[0;32m   3723\u001b[0m     sep\u001b[39m=\u001b[39;49msep,\n\u001b[0;32m   3724\u001b[0m     encoding\u001b[39m=\u001b[39;49mencoding,\n\u001b[0;32m   3725\u001b[0m     errors\u001b[39m=\u001b[39;49merrors,\n\u001b[0;32m   3726\u001b[0m     compression\u001b[39m=\u001b[39;49mcompression,\n\u001b[0;32m   3727\u001b[0m     quoting\u001b[39m=\u001b[39;49mquoting,\n\u001b[0;32m   3728\u001b[0m     columns\u001b[39m=\u001b[39;49mcolumns,\n\u001b[0;32m   3729\u001b[0m     index_label\u001b[39m=\u001b[39;49mindex_label,\n\u001b[0;32m   3730\u001b[0m     mode\u001b[39m=\u001b[39;49mmode,\n\u001b[0;32m   3731\u001b[0m     chunksize\u001b[39m=\u001b[39;49mchunksize,\n\u001b[0;32m   3732\u001b[0m     quotechar\u001b[39m=\u001b[39;49mquotechar,\n\u001b[0;32m   3733\u001b[0m     date_format\u001b[39m=\u001b[39;49mdate_format,\n\u001b[0;32m   3734\u001b[0m     doublequote\u001b[39m=\u001b[39;49mdoublequote,\n\u001b[0;32m   3735\u001b[0m     escapechar\u001b[39m=\u001b[39;49mescapechar,\n\u001b[0;32m   3736\u001b[0m     storage_options\u001b[39m=\u001b[39;49mstorage_options,\n\u001b[0;32m   3737\u001b[0m )\n",
      "File \u001b[1;32mc:\\users\\clshe\\documents\\python-envs\\ai_env\\lib\\site-packages\\pandas\\util\\_decorators.py:211\u001b[0m, in \u001b[0;36mdeprecate_kwarg.<locals>._deprecate_kwarg.<locals>.wrapper\u001b[1;34m(*args, **kwargs)\u001b[0m\n\u001b[0;32m    209\u001b[0m     \u001b[39melse\u001b[39;00m:\n\u001b[0;32m    210\u001b[0m         kwargs[new_arg_name] \u001b[39m=\u001b[39m new_arg_value\n\u001b[1;32m--> 211\u001b[0m \u001b[39mreturn\u001b[39;00m func(\u001b[39m*\u001b[39margs, \u001b[39m*\u001b[39m\u001b[39m*\u001b[39mkwargs)\n",
      "File \u001b[1;32mc:\\users\\clshe\\documents\\python-envs\\ai_env\\lib\\site-packages\\pandas\\io\\formats\\format.py:1189\u001b[0m, in \u001b[0;36mDataFrameRenderer.to_csv\u001b[1;34m(self, path_or_buf, encoding, sep, columns, index_label, mode, compression, quoting, quotechar, lineterminator, chunksize, date_format, doublequote, escapechar, errors, storage_options)\u001b[0m\n\u001b[0;32m   1168\u001b[0m     created_buffer \u001b[39m=\u001b[39m \u001b[39mFalse\u001b[39;00m\n\u001b[0;32m   1170\u001b[0m csv_formatter \u001b[39m=\u001b[39m CSVFormatter(\n\u001b[0;32m   1171\u001b[0m     path_or_buf\u001b[39m=\u001b[39mpath_or_buf,\n\u001b[0;32m   1172\u001b[0m     lineterminator\u001b[39m=\u001b[39mlineterminator,\n\u001b[1;32m   (...)\u001b[0m\n\u001b[0;32m   1187\u001b[0m     formatter\u001b[39m=\u001b[39m\u001b[39mself\u001b[39m\u001b[39m.\u001b[39mfmt,\n\u001b[0;32m   1188\u001b[0m )\n\u001b[1;32m-> 1189\u001b[0m csv_formatter\u001b[39m.\u001b[39;49msave()\n\u001b[0;32m   1191\u001b[0m \u001b[39mif\u001b[39;00m created_buffer:\n\u001b[0;32m   1192\u001b[0m     \u001b[39massert\u001b[39;00m \u001b[39misinstance\u001b[39m(path_or_buf, StringIO)\n",
      "File \u001b[1;32mc:\\users\\clshe\\documents\\python-envs\\ai_env\\lib\\site-packages\\pandas\\io\\formats\\csvs.py:241\u001b[0m, in \u001b[0;36mCSVFormatter.save\u001b[1;34m(self)\u001b[0m\n\u001b[0;32m    237\u001b[0m \u001b[39m\u001b[39m\u001b[39m\"\"\"\u001b[39;00m\n\u001b[0;32m    238\u001b[0m \u001b[39mCreate the writer & save.\u001b[39;00m\n\u001b[0;32m    239\u001b[0m \u001b[39m\"\"\"\u001b[39;00m\n\u001b[0;32m    240\u001b[0m \u001b[39m# apply compression and byte/text conversion\u001b[39;00m\n\u001b[1;32m--> 241\u001b[0m \u001b[39mwith\u001b[39;00m get_handle(\n\u001b[0;32m    242\u001b[0m     \u001b[39mself\u001b[39;49m\u001b[39m.\u001b[39;49mfilepath_or_buffer,\n\u001b[0;32m    243\u001b[0m     \u001b[39mself\u001b[39;49m\u001b[39m.\u001b[39;49mmode,\n\u001b[0;32m    244\u001b[0m     encoding\u001b[39m=\u001b[39;49m\u001b[39mself\u001b[39;49m\u001b[39m.\u001b[39;49mencoding,\n\u001b[0;32m    245\u001b[0m     errors\u001b[39m=\u001b[39;49m\u001b[39mself\u001b[39;49m\u001b[39m.\u001b[39;49merrors,\n\u001b[0;32m    246\u001b[0m     compression\u001b[39m=\u001b[39;49m\u001b[39mself\u001b[39;49m\u001b[39m.\u001b[39;49mcompression,\n\u001b[0;32m    247\u001b[0m     storage_options\u001b[39m=\u001b[39;49m\u001b[39mself\u001b[39;49m\u001b[39m.\u001b[39;49mstorage_options,\n\u001b[0;32m    248\u001b[0m ) \u001b[39mas\u001b[39;00m handles:\n\u001b[0;32m    249\u001b[0m \n\u001b[0;32m    250\u001b[0m     \u001b[39m# Note: self.encoding is irrelevant here\u001b[39;00m\n\u001b[0;32m    251\u001b[0m     \u001b[39mself\u001b[39m\u001b[39m.\u001b[39mwriter \u001b[39m=\u001b[39m csvlib\u001b[39m.\u001b[39mwriter(\n\u001b[0;32m    252\u001b[0m         handles\u001b[39m.\u001b[39mhandle,\n\u001b[0;32m    253\u001b[0m         lineterminator\u001b[39m=\u001b[39m\u001b[39mself\u001b[39m\u001b[39m.\u001b[39mlineterminator,\n\u001b[1;32m   (...)\u001b[0m\n\u001b[0;32m    258\u001b[0m         quotechar\u001b[39m=\u001b[39m\u001b[39mself\u001b[39m\u001b[39m.\u001b[39mquotechar,\n\u001b[0;32m    259\u001b[0m     )\n\u001b[0;32m    261\u001b[0m     \u001b[39mself\u001b[39m\u001b[39m.\u001b[39m_save()\n",
      "File \u001b[1;32mc:\\users\\clshe\\documents\\python-envs\\ai_env\\lib\\site-packages\\pandas\\io\\common.py:856\u001b[0m, in \u001b[0;36mget_handle\u001b[1;34m(path_or_buf, mode, encoding, compression, memory_map, is_text, errors, storage_options)\u001b[0m\n\u001b[0;32m    851\u001b[0m \u001b[39melif\u001b[39;00m \u001b[39misinstance\u001b[39m(handle, \u001b[39mstr\u001b[39m):\n\u001b[0;32m    852\u001b[0m     \u001b[39m# Check whether the filename is to be opened in binary mode.\u001b[39;00m\n\u001b[0;32m    853\u001b[0m     \u001b[39m# Binary mode does not support 'encoding' and 'newline'.\u001b[39;00m\n\u001b[0;32m    854\u001b[0m     \u001b[39mif\u001b[39;00m ioargs\u001b[39m.\u001b[39mencoding \u001b[39mand\u001b[39;00m \u001b[39m\"\u001b[39m\u001b[39mb\u001b[39m\u001b[39m\"\u001b[39m \u001b[39mnot\u001b[39;00m \u001b[39min\u001b[39;00m ioargs\u001b[39m.\u001b[39mmode:\n\u001b[0;32m    855\u001b[0m         \u001b[39m# Encoding\u001b[39;00m\n\u001b[1;32m--> 856\u001b[0m         handle \u001b[39m=\u001b[39m \u001b[39mopen\u001b[39;49m(\n\u001b[0;32m    857\u001b[0m             handle,\n\u001b[0;32m    858\u001b[0m             ioargs\u001b[39m.\u001b[39;49mmode,\n\u001b[0;32m    859\u001b[0m             encoding\u001b[39m=\u001b[39;49mioargs\u001b[39m.\u001b[39;49mencoding,\n\u001b[0;32m    860\u001b[0m             errors\u001b[39m=\u001b[39;49merrors,\n\u001b[0;32m    861\u001b[0m             newline\u001b[39m=\u001b[39;49m\u001b[39m\"\u001b[39;49m\u001b[39m\"\u001b[39;49m,\n\u001b[0;32m    862\u001b[0m         )\n\u001b[0;32m    863\u001b[0m     \u001b[39melse\u001b[39;00m:\n\u001b[0;32m    864\u001b[0m         \u001b[39m# Binary mode\u001b[39;00m\n\u001b[0;32m    865\u001b[0m         handle \u001b[39m=\u001b[39m \u001b[39mopen\u001b[39m(handle, ioargs\u001b[39m.\u001b[39mmode)\n",
      "\u001b[1;31mPermissionError\u001b[0m: [Errno 13] Permission denied: 'diffobj_annotations.csv'"
     ]
    }
   ],
   "source": [
    "df = pd.DataFrame(columns=[\"image\", \"caption\"])\n",
    "df[\"image\"] = image_filenames\n",
    "df[\"caption\"] = image_captions\n",
    "df.to_csv(f\"{prefix}_annotations.csv\", index=False)"
   ]
  },
  {
   "attachments": {},
   "cell_type": "markdown",
   "metadata": {},
   "source": [
    "###Merge"
   ]
  },
  {
   "cell_type": "code",
   "execution_count": 4,
   "metadata": {},
   "outputs": [
    {
     "name": "stdout",
     "output_type": "stream",
     "text": [
      "[{'id': 0, 'name': 'apple', 'supercategory': 'countable'}, {'id': 1, 'name': 'onion', 'supercategory': 'countable'}, {'id': 2, 'name': 'avocado', 'supercategory': 'countable'}, {'id': 3, 'name': 'orange', 'supercategory': 'countable'}, {'id': 4, 'name': 'egg', 'supercategory': 'countable'}, {'id': 5, 'name': 'carrot', 'supercategory': 'countable'}, {'id': 6, 'name': 'cucumber', 'supercategory': 'countable'}, {'id': 7, 'name': 'lemon', 'supercategory': 'countable'}, {'id': 8, 'name': 'garlic', 'supercategory': 'countable'}, {'id': 9, 'name': 'banana', 'supercategory': 'countable'}, {'id': 10, 'name': 'grape juice', 'supercategory': 'uncountable_liquid'}, {'id': 11, 'name': 'cranberry juice', 'supercategory': 'uncountable_liquid'}, {'id': 12, 'name': 'blueberry juice', 'supercategory': 'uncountable_liquid'}, {'id': 13, 'name': 'papaya juice', 'supercategory': 'uncountable_liquid'}, {'id': 14, 'name': 'vegetable juice', 'supercategory': 'uncountable_liquid'}, {'id': 15, 'name': 'tray', 'supercategory': 'container'}]\n"
     ]
    }
   ],
   "source": [
    "# merge the annotations \n",
    "\n",
    "import os \n",
    "import cv2\n",
    "import pandas as pd \n",
    "import math\n",
    "from collections import defaultdict\n",
    "import inflection as inf\n",
    "import json\n",
    "\n",
    "ann_dir = \"./annotations/smallv1\"\n",
    "objdet_filename = \"iccv-real-small-objdet.json\"\n",
    "det_filename = \"iccv-real-small-detlabels.json\"\n",
    "orig_annotations_filepath = \"./annotations/annotations_val.json\"\n",
    "\n",
    "objdet_json = json.load(open(os.path.join(ann_dir, objdet_filename)))\n",
    "det_json = json.load(open(os.path.join(ann_dir, det_filename)))\n",
    "orig_json = json.load(open(orig_annotations_filepath))\n",
    "\n",
    "categories = orig_json[\"categories\"]\n",
    "orig_cat_map = {}\n",
    "\n",
    "for cat in categories:\n",
    "    orig_cat_map[cat[\"name\"]] = cat[\"id\"]\n",
    "print(categories)\n",
    "\n",
    "images = []\n",
    "objdet_images = objdet_json[\"images\"]\n",
    "det_images = det_json[\"images\"]\n",
    "det_categories = det_json[\"categories\"]\n",
    "oracle_annotations = objdet_json[\"annotations\"]\n",
    "\n",
    "cat_map = {}\n",
    "id_map = {}\n",
    "\n",
    "for i, cat in enumerate(det_categories):\n",
    "    cat_map[cat[\"id\"]] = cat[\"name\"]\n",
    "\n",
    "for i, img in enumerate(det_images): \n",
    "    img = img.copy() \n",
    "    image_id = img[\"id\"]\n",
    "    img[\"file_name\"] = \"images/\" + img[\"file_name\"].split(\"-\")[0] + \".jpg\"\n",
    "    id_map[image_id] = i \n",
    "    images.append(img)\n",
    "\n",
    "annotations = []\n",
    "for ann in det_json[\"annotations\"]:\n",
    "    i = id_map[ann[\"image_id\"]]\n",
    "    caption = cat_map[ann[\"category_id\"]]\n",
    "    if \"juice\" in caption:\n",
    "        caption = caption.split()[0] + \" papaya juice\"\n",
    "    images[i][\"caption\"] = caption\n",
    "    name = inf.singularize(\" \".join(caption.split()[1:]))\n",
    "    ann[\"category_id\"] = orig_cat_map[name]\n",
    "    annotations.append(ann)\n",
    "\n",
    "new_images = []\n",
    "for i, image in enumerate(images): \n",
    "    if image.get(\"caption\"):\n",
    "        new_images.append(image)\n",
    "\n",
    "    \n",
    "new_annotations = {\n",
    "    \"images\": new_images,\n",
    "    \"annotations\": annotations, \n",
    "    \"input_oracle_annotations\": oracle_annotations,\n",
    "    \"categories\": categories\n",
    "}\n",
    "\n",
    "json.dump(new_annotations, open(os.path.join(ann_dir, \"merged.json\"), \"w\"))"
   ]
  },
  {
   "cell_type": "code",
   "execution_count": null,
   "metadata": {},
   "outputs": [],
   "source": []
  }
 ],
 "metadata": {
  "kernelspec": {
   "display_name": "ai_env",
   "language": "python",
   "name": "python3"
  },
  "language_info": {
   "codemirror_mode": {
    "name": "ipython",
    "version": 3
   },
   "file_extension": ".py",
   "mimetype": "text/x-python",
   "name": "python",
   "nbconvert_exporter": "python",
   "pygments_lexer": "ipython3",
   "version": "3.9.0"
  },
  "orig_nbformat": 4,
  "vscode": {
   "interpreter": {
    "hash": "98f310addaf7dac00cd5965e6c1c6cb4dc304674e0e6e4d0010a991e9aec678e"
   }
  }
 },
 "nbformat": 4,
 "nbformat_minor": 2
}
