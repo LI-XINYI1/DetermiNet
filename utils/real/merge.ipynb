{
 "cells": [
  {
   "attachments": {},
   "cell_type": "markdown",
   "metadata": {},
   "source": [
    "### Merge obj det and determiner label files"
   ]
  },
  {
   "cell_type": "code",
   "execution_count": 13,
   "metadata": {},
   "outputs": [
    {
     "name": "stdout",
     "output_type": "stream",
     "text": [
      "defaultdict(<class 'int'>, {2: 10, 31: 5, 12: 4, 4: 2, 17: 18, 23: 6, 13: 5, 3: 5, 5: 2, 15: 5})\n"
     ]
    }
   ],
   "source": [
    "import os \n",
    "import cv2\n",
    "import pandas as pd \n",
    "import math\n",
    "from collections import defaultdict\n",
    "import inflection as inf\n",
    "import json\n",
    "\n",
    "#######################################################################################\n",
    "############################# CHANGE FILENAMES HERE ###################################\n",
    "#######################################################################################\n",
    "\n",
    "ann_dir = \"../../annotations/real/smallv1\"\n",
    "objdet_filename = \"iccv-real-small-objdet.json\"\n",
    "det_filename = \"iccv-real-small-detlabels.json\"\n",
    "orig_annotations_filepath = \"../../annotations/annotations_val.json\"\n",
    "\n",
    "objdet_json = json.load(open(os.path.join(ann_dir, objdet_filename)))\n",
    "det_json = json.load(open(os.path.join(ann_dir, det_filename)))\n",
    "orig_json = json.load(open(orig_annotations_filepath))\n",
    "\n",
    "categories = orig_json[\"categories\"]\n",
    "\n",
    "orig_cat_map = {}\n",
    "\n",
    "for cat in categories:\n",
    "    orig_cat_map[cat[\"name\"]] = cat[\"id\"]\n",
    "\n",
    "images = []\n",
    "objdet_images = objdet_json[\"images\"]\n",
    "det_images = det_json[\"images\"]\n",
    "det_categories = det_json[\"categories\"]\n",
    "oracle_annotations = objdet_json[\"annotations\"]\n",
    "\n",
    "cat_map = {}\n",
    "id_map = {}\n",
    "counts = defaultdict(int)\n",
    "\n",
    "for i, cat in enumerate(det_categories):\n",
    "    cat_map[cat[\"id\"]] = cat[\"name\"]\n",
    "\n",
    "for i, img in enumerate(det_images): \n",
    "    img = img.copy() \n",
    "    image_id = img[\"id\"]\n",
    "    img[\"file_name\"] = \"images/\" + img[\"file_name\"].split(\"-\")[0] + \".jpg\"\n",
    "    id_map[image_id] = i \n",
    "    images.append(img)\n",
    "\n",
    "annotations = []\n",
    "for ann in det_json[\"annotations\"]:\n",
    "    i = id_map[ann[\"image_id\"]]\n",
    "    caption = cat_map[ann[\"category_id\"]]\n",
    "    if \"juice\" in caption:\n",
    "        caption = caption.split()[0] + \" papaya juice\"\n",
    "    images[i][\"caption\"] = caption\n",
    "    name = inf.singularize(\" \".join(caption.split()[1:]))\n",
    "    ann[\"category_id\"] = orig_cat_map[name]\n",
    "    counts[ann[\"category_id\"]]  += 1\n",
    "    annotations.append(ann)\n",
    "\n",
    "new_images = []\n",
    "for i, image in enumerate(images): \n",
    "    if image.get(\"caption\"):\n",
    "        new_images.append(image)\n",
    "\n",
    "oracle_anns_map = defaultdict(list)\n",
    "oracle_file_name_map = defaultdict(int)\n",
    "oracle_id_map = defaultdict(int)\n",
    "\n",
    "for i, img in enumerate(objdet_images):\n",
    "    oracle_file_name_map[img[\"file_name\"]] = img[\"id\"]\n",
    "    oracle_id_map[img[\"id\"]] = i\n",
    "\n",
    "for ann in oracle_annotations:\n",
    "    oracle_anns_map[ann[\"image_id\"]].append(ann)\n",
    "\n",
    "for img in objdet_images\n",
    "    file_name = img[\"file_name\"].split(\"/\")[-1]\n",
    "    img[\"id\"] = oracle_file_name_map[file_name]\n",
    "    img[\"file_name\"] = \"images/\" + file_name\n",
    "\n",
    "oracle_anns_count = defaultdict(int)\n",
    "new_input_oracle_annotations = []\n",
    "for img in new_images:\n",
    "    file_name = img[\"file_name\"].split(\"/\")[-1]\n",
    "    oracle_anns_count[oracle_file_name_map[file_name]] += 1\n",
    "    for ann in oracle_anns_map[oracle_file_name_map[file_name]]:\n",
    "        ann[\"image_id\"] = img[\"id\"]\n",
    "        ann[\"id\"] = len(new_input_oracle_annotations)\n",
    "        new_input_oracle_annotations.append(ann)\n",
    "\n",
    "print(oracle_anns_count)\n",
    "\n",
    "new_input_oracle_annotations = []\n",
    "\n",
    "for ann in oracle_annotations: \n",
    "    caption = cat_map[ann[\"category_id\"]]\n",
    "    if \"juice\" in caption:\n",
    "        caption = \"papaya juice\"\n",
    "    name = inf.singularize(caption)\n",
    "    ann[\"category_id\"] = orig_cat_map[name]\n",
    "    \n",
    "new_annotations = {\n",
    "    \"images\": new_images,\n",
    "    \"annotations\": annotations, \n",
    "    \"input_oracle_annotations\": oracle_annotations,\n",
    "    \"categories\": categories\n",
    "}\n",
    "\n",
    "json.dump(new_annotations, open(os.path.join(ann_dir, \"merged.json\"), \"w\"))"
   ]
  },
  {
   "cell_type": "code",
   "execution_count": 14,
   "metadata": {},
   "outputs": [
    {
     "data": {
      "text/plain": [
       "defaultdict(int,\n",
       "            {2: 10,\n",
       "             31: 5,\n",
       "             12: 4,\n",
       "             4: 2,\n",
       "             17: 18,\n",
       "             23: 6,\n",
       "             13: 5,\n",
       "             3: 5,\n",
       "             5: 2,\n",
       "             15: 5})"
      ]
     },
     "execution_count": 14,
     "metadata": {},
     "output_type": "execute_result"
    }
   ],
   "source": [
    "oracle_anns_count"
   ]
  },
  {
   "cell_type": "code",
   "execution_count": null,
   "metadata": {},
   "outputs": [],
   "source": []
  }
 ],
 "metadata": {
  "kernelspec": {
   "display_name": "ai_env",
   "language": "python",
   "name": "python3"
  },
  "language_info": {
   "codemirror_mode": {
    "name": "ipython",
    "version": 3
   },
   "file_extension": ".py",
   "mimetype": "text/x-python",
   "name": "python",
   "nbconvert_exporter": "python",
   "pygments_lexer": "ipython3",
   "version": "3.9.0"
  },
  "orig_nbformat": 4,
  "vscode": {
   "interpreter": {
    "hash": "98f310addaf7dac00cd5965e6c1c6cb4dc304674e0e6e4d0010a991e9aec678e"
   }
  }
 },
 "nbformat": 4,
 "nbformat_minor": 2
}
