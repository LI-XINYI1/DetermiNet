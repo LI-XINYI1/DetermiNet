{
 "cells": [
  {
   "attachments": {},
   "cell_type": "markdown",
   "metadata": {},
   "source": [
    "### Merge obj det and determiner label files"
   ]
  },
  {
   "cell_type": "code",
   "execution_count": null,
   "metadata": {},
   "outputs": [],
   "source": [
    "import os \n",
    "import cv2\n",
    "import pandas as pd \n",
    "import math\n",
    "from collections import defaultdict\n",
    "import inflection as inf\n",
    "import json\n",
    "\n",
    "#######################################################################################\n",
    "############################# CHANGE FILENAMES HERE ###################################\n",
    "#######################################################################################\n",
    "\n",
    "ann_dir = \"../annotations/real/smallv1\"\n",
    "objdet_filename = \"iccv-real-small-objdet.json\"\n",
    "det_filename = \"iccv-real-small-detlabels.json\"\n",
    "orig_annotations_filepath = \"./annotations/annotations_val.json\"\n",
    "\n",
    "objdet_json = json.load(open(os.path.join(ann_dir, objdet_filename)))\n",
    "det_json = json.load(open(os.path.join(ann_dir, det_filename)))\n",
    "orig_json = json.load(open(orig_annotations_filepath))\n",
    "\n",
    "categories = orig_json[\"categories\"]\n",
    "orig_cat_map = {}\n",
    "\n",
    "for cat in categories:\n",
    "    orig_cat_map[cat[\"name\"]] = cat[\"id\"]\n",
    "print(categories)\n",
    "\n",
    "images = []\n",
    "objdet_images = objdet_json[\"images\"]\n",
    "det_images = det_json[\"images\"]\n",
    "det_categories = det_json[\"categories\"]\n",
    "oracle_annotations = objdet_json[\"annotations\"]\n",
    "\n",
    "cat_map = {}\n",
    "id_map = {}\n",
    "\n",
    "for i, cat in enumerate(det_categories):\n",
    "    cat_map[cat[\"id\"]] = cat[\"name\"]\n",
    "\n",
    "for i, img in enumerate(det_images): \n",
    "    img = img.copy() \n",
    "    image_id = img[\"id\"]\n",
    "    img[\"file_name\"] = \"images/\" + img[\"file_name\"].split(\"-\")[0] + \".jpg\"\n",
    "    id_map[image_id] = i \n",
    "    images.append(img)\n",
    "\n",
    "annotations = []\n",
    "for ann in det_json[\"annotations\"]:\n",
    "    i = id_map[ann[\"image_id\"]]\n",
    "    caption = cat_map[ann[\"category_id\"]]\n",
    "    if \"juice\" in caption:\n",
    "        caption = caption.split()[0] + \" papaya juice\"\n",
    "    images[i][\"caption\"] = caption\n",
    "    name = inf.singularize(\" \".join(caption.split()[1:]))\n",
    "    ann[\"category_id\"] = orig_cat_map[name]\n",
    "    annotations.append(ann)\n",
    "\n",
    "new_images = []\n",
    "for i, image in enumerate(images): \n",
    "    if image.get(\"caption\"):\n",
    "        new_images.append(image)\n",
    "\n",
    "    \n",
    "new_annotations = {\n",
    "    \"images\": new_images,\n",
    "    \"annotations\": annotations, \n",
    "    \"input_oracle_annotations\": oracle_annotations,\n",
    "    \"categories\": categories\n",
    "}\n",
    "\n",
    "json.dump(new_annotations, open(os.path.join(ann_dir, \"merged.json\"), \"w\"))"
   ]
  }
 ],
 "metadata": {
  "kernelspec": {
   "display_name": "ai_env",
   "language": "python",
   "name": "python3"
  },
  "language_info": {
   "name": "python",
   "version": "3.9.0"
  },
  "orig_nbformat": 4,
  "vscode": {
   "interpreter": {
    "hash": "98f310addaf7dac00cd5965e6c1c6cb4dc304674e0e6e4d0010a991e9aec678e"
   }
  }
 },
 "nbformat": 4,
 "nbformat_minor": 2
}
