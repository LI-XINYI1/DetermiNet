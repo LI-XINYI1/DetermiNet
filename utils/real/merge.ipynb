{
 "cells": [
  {
   "attachments": {},
   "cell_type": "markdown",
   "metadata": {},
   "source": [
    "### Merge obj det and determiner label files"
   ]
  },
  {
   "cell_type": "code",
   "execution_count": 4,
   "metadata": {},
   "outputs": [
    {
     "name": "stdout",
     "output_type": "stream",
     "text": [
      "[{'id': 0, 'name': 'apple', 'supercategory': 'countable'}, {'id': 1, 'name': 'onion', 'supercategory': 'countable'}, {'id': 2, 'name': 'avocado', 'supercategory': 'countable'}, {'id': 3, 'name': 'orange', 'supercategory': 'countable'}, {'id': 4, 'name': 'egg', 'supercategory': 'countable'}, {'id': 5, 'name': 'carrot', 'supercategory': 'countable'}, {'id': 6, 'name': 'cucumber', 'supercategory': 'countable'}, {'id': 7, 'name': 'lemon', 'supercategory': 'countable'}, {'id': 8, 'name': 'garlic', 'supercategory': 'countable'}, {'id': 9, 'name': 'banana', 'supercategory': 'countable'}, {'id': 10, 'name': 'grape juice', 'supercategory': 'uncountable_liquid'}, {'id': 11, 'name': 'cranberry juice', 'supercategory': 'uncountable_liquid'}, {'id': 12, 'name': 'blueberry juice', 'supercategory': 'uncountable_liquid'}, {'id': 13, 'name': 'papaya juice', 'supercategory': 'uncountable_liquid'}, {'id': 14, 'name': 'vegetable juice', 'supercategory': 'uncountable_liquid'}, {'id': 15, 'name': 'tray', 'supercategory': 'container'}]\n"
     ]
    }
   ],
   "source": [
    "import os \n",
    "import cv2\n",
    "import pandas as pd \n",
    "import math\n",
    "from collections import defaultdict\n",
    "import inflection as inf\n",
    "import json\n",
    "\n",
    "#######################################################################################\n",
    "############################# CHANGE FILENAMES HERE ###################################\n",
    "#######################################################################################\n",
    "\n",
    "ann_dir = \"../../annotations/real/smallv1\"\n",
    "objdet_filename = \"iccv-real-small-objdet.json\"\n",
    "det_filename = \"iccv-real-small-detlabels.json\"\n",
    "orig_annotations_filepath = \"../../annotations/annotations_val.json\"\n",
    "\n",
    "objdet_json = json.load(open(os.path.join(ann_dir, objdet_filename)))\n",
    "det_json = json.load(open(os.path.join(ann_dir, det_filename)))\n",
    "orig_json = json.load(open(orig_annotations_filepath))\n",
    "\n",
    "categories = orig_json[\"categories\"]\n",
    "orig_cat_map = {}\n",
    "\n",
    "for cat in categories:\n",
    "    orig_cat_map[cat[\"name\"]] = cat[\"id\"]\n",
    "print(categories)\n",
    "\n",
    "images = []\n",
    "objdet_images = objdet_json[\"images\"]\n",
    "det_images = det_json[\"images\"]\n",
    "det_categories = det_json[\"categories\"]\n",
    "oracle_annotations = objdet_json[\"annotations\"]\n",
    "\n",
    "cat_map = {}\n",
    "id_map = {}\n",
    "\n",
    "for i, cat in enumerate(det_categories):\n",
    "    cat_map[cat[\"id\"]] = cat[\"name\"]\n",
    "\n",
    "for i, img in enumerate(det_images): \n",
    "    img = img.copy() \n",
    "    image_id = img[\"id\"]\n",
    "    img[\"file_name\"] = \"images/\" + img[\"file_name\"].split(\"-\")[0] + \".jpg\"\n",
    "    id_map[image_id] = i \n",
    "    images.append(img)\n",
    "\n",
    "annotations = []\n",
    "for ann in det_json[\"annotations\"]:\n",
    "    i = id_map[ann[\"image_id\"]]\n",
    "    caption = cat_map[ann[\"category_id\"]]\n",
    "    if \"juice\" in caption:\n",
    "        caption = caption.split()[0] + \" papaya juice\"\n",
    "    images[i][\"caption\"] = caption\n",
    "    name = inf.singularize(\" \".join(caption.split()[1:]))\n",
    "    ann[\"category_id\"] = orig_cat_map[name]\n",
    "    annotations.append(ann)\n",
    "\n",
    "new_images = []\n",
    "for i, image in enumerate(images): \n",
    "    if image.get(\"caption\"):\n",
    "        new_images.append(image)\n",
    "\n",
    "for ann in oracle_annotations: \n",
    "    caption = cat_map[ann[\"category_id\"]]\n",
    "    if \"juice\" in caption:\n",
    "        caption = \"papaya juice\"\n",
    "    name = inf.singularize(caption)\n",
    "    ann[\"category_id\"] = orig_cat_map[name]\n",
    "    \n",
    "new_annotations = {\n",
    "    \"images\": new_images,\n",
    "    \"annotations\": annotations, \n",
    "    \"input_oracle_annotations\": oracle_annotations,\n",
    "    \"categories\": categories\n",
    "}\n",
    "\n",
    "json.dump(new_annotations, open(os.path.join(ann_dir, \"merged.json\"), \"w\"))"
   ]
  },
  {
   "cell_type": "code",
   "execution_count": null,
   "metadata": {},
   "outputs": [],
   "source": []
  }
 ],
 "metadata": {
  "kernelspec": {
   "display_name": "ai_env",
   "language": "python",
   "name": "python3"
  },
  "language_info": {
   "codemirror_mode": {
    "name": "ipython",
    "version": 3
   },
   "file_extension": ".py",
   "mimetype": "text/x-python",
   "name": "python",
   "nbconvert_exporter": "python",
   "pygments_lexer": "ipython3",
   "version": "3.9.0"
  },
  "orig_nbformat": 4,
  "vscode": {
   "interpreter": {
    "hash": "98f310addaf7dac00cd5965e6c1c6cb4dc304674e0e6e4d0010a991e9aec678e"
   }
  }
 },
 "nbformat": 4,
 "nbformat_minor": 2
}
