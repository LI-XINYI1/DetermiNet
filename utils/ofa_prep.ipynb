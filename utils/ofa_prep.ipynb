{
 "cells": [
  {
   "cell_type": "code",
   "execution_count": null,
   "metadata": {},
   "outputs": [],
   "source": [
    "#take the train test val annotations in annotations dir and convert them to refcoco annotations format\n",
    "\n",
    "import json\n",
    "import os\n",
    "import numpy as np\n",
    "import pandas as pd\n",
    "import pickle\n",
    "import re\n",
    "import sys\n",
    "\n",
    "\n",
    "\n",
    "def get_refcoco_anns(anns, split):\n",
    "    refcoco_anns = []\n",
    "    for ann in anns:\n",
    "        refcoco_ann = {}\n",
    "        refcoco_ann['image_id'] = ann['image_id']\n",
    "        refcoco_ann['id'] = ann['id']\n",
    "        refcoco_ann['split'] = split\n",
    "        refcoco_ann['sentences'] = []\n",
    "        for sent in ann['sentences']:\n",
    "            refcoco_ann['sentences'].append({'tokens': sent['tokens'], 'raw': sent['raw']})\n",
    "        refcoco_anns.append(refcoco_ann)\n",
    "    return refcoco_anns\n",
    "\n",
    "\n",
    "\n",
    "\n",
    "\n",
    "\n",
    "\n",
    "\n",
    "\n",
    "\n",
    "\n",
    "\n",
    "\n"
   ]
  }
 ],
 "metadata": {
  "kernelspec": {
   "display_name": "ai_env",
   "language": "python",
   "name": "python3"
  },
  "language_info": {
   "name": "python",
   "version": "3.9.0"
  },
  "orig_nbformat": 4,
  "vscode": {
   "interpreter": {
    "hash": "98f310addaf7dac00cd5965e6c1c6cb4dc304674e0e6e4d0010a991e9aec678e"
   }
  }
 },
 "nbformat": 4,
 "nbformat_minor": 2
}
