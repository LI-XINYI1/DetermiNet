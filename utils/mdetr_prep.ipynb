{
 "cells": [
  {
   "cell_type": "code",
   "execution_count": 1,
   "metadata": {},
   "outputs": [],
   "source": [
    "import os\n",
    "import json\n",
    "import numpy as np\n",
    "import pandas as pd\n",
    "from collections import defaultdict\n",
    "from copy import deepcopy"
   ]
  },
  {
   "cell_type": "code",
   "execution_count": 5,
   "id": "6b3dec05",
   "metadata": {},
   "outputs": [],
   "source": [
    "# filenames = [\"annotations_train.json\", \"annotations_val.json\", \"annotations_test.json\"]\n",
    "filenames = [\"fruits-real-small.json\"]\n",
    "dir_path = \"../annotations/real\"\n",
    "\n",
    "for filename in filenames: \n",
    "    filepath = os.path.join(dir_path, filename)\n",
    "    data = json.load(open(filepath))\n",
    "    images = data[\"images\"]\n",
    "    new_images = []\n",
    "    tokens = defaultdict(str)\n",
    "    for image in images: \n",
    "        caption = image[\"caption\"]\n",
    "        image[\"dataset_name\"] = \"refcoco\"\n",
    "        image[\"tokens_negative\"] = [[0, len(caption)]]\n",
    "        tokens[image[\"id\"]] = image[\"tokens_negative\"]\n",
    "        new_images.append(image)\n",
    "\n",
    "    data[\"images\"] = new_images\n",
    "\n",
    "    for annotations in data[\"annotations\"]:\n",
    "        annotations[\"tokens_positive\"] = tokens[annotations[\"image_id\"]]\n",
    "    \n",
    "    new_filename = filename.split(\".\")[0] + \"_mdetr.json\"\n",
    "    new_dir_path = os.path.join(dir_path, \"SOTA/mdetr\")\n",
    "    new_filepath = os.path.join(new_dir_path, new_filename)\n",
    "    data.pop(\"input_oracle_annotations\")\n",
    "    if \"segmentation_images\" in data.keys():\n",
    "        data.pop(\"segmentation_images\")\n",
    "    json.dump(data, open(new_filepath, \"w\"))\n"
   ]
  },
  {
   "cell_type": "code",
   "execution_count": 11,
   "id": "d5c76443",
   "metadata": {},
   "outputs": [],
   "source": [
    "test_filename = \"annotations_test_mdetr.json\"\n",
    "test_filepath = os.path.join(dir_path, \"SOTA/mdetr\", test_filename)\n",
    "\n",
    "test_data = json.load(open(test_filepath))\n",
    "\n",
    "\n",
    "ablation = [\"o+d+\", \"o+d-\", \"o-d+\", \"o-d-\"]\n",
    "\n",
    "for a in ablation: \n",
    "    new_images = []\n",
    "    new_annotations = []\n",
    "    tokens = defaultdict(str)\n",
    "    ablation_data = deepcopy(test_data)\n",
    "\n",
    "    for image in ablation_data[\"images\"]:\n",
    "\n",
    "        if a == \"o+d+\": \n",
    "            caption = image[\"caption\"]\n",
    "        elif a == \"o+d-\":\n",
    "            caption = \" \".join(image[\"caption\"].split(\" \")[1:])\n",
    "        elif a == \"o-d+\":\n",
    "            caption = image[\"caption\"].split(\" \")[0]\n",
    "        elif a == \"o-d-\":\n",
    "            caption = \"  \"\n",
    "\n",
    "        image[\"caption\"] = caption \n",
    "        image[\"tokens_negative\"] = [[0, len(caption)]]\n",
    "        tokens[image[\"id\"]] = image[\"tokens_negative\"]\n",
    "        new_images.append(image)\n",
    "    \n",
    "    for annotation in ablation_data[\"annotations\"]:\n",
    "        annotation[\"tokens_positive\"] = tokens[annotations[\"image_id\"]]\n",
    "        new_annotations.append(annotation)\n",
    "\n",
    "    ablation_data[\"images\"] = new_images\n",
    "    ablation_data[\"annotations\"] = new_annotations\n",
    "\n",
    "    ablation_filename = test_filename.split(\".\")[0] + \"_\" + a + \".json\"\n",
    "    ablation_dir_path = os.path.join(dir_path, \"ablation/mdetr\")\n",
    "    ablation_filepath = os.path.join(ablation_dir_path, ablation_filename)\n",
    "\n",
    "    json.dump(ablation_data, open(ablation_filepath, \"w\"))"
   ]
  },
  {
   "cell_type": "code",
   "execution_count": null,
   "id": "ca85c526",
   "metadata": {},
   "outputs": [],
   "source": []
  }
 ],
 "metadata": {
  "kernelspec": {
   "display_name": "ai_env",
   "language": "python",
   "name": "ai_env"
  },
  "language_info": {
   "codemirror_mode": {
    "name": "ipython",
    "version": 3
   },
   "file_extension": ".py",
   "mimetype": "text/x-python",
   "name": "python",
   "nbconvert_exporter": "python",
   "pygments_lexer": "ipython3",
   "version": "3.9.0"
  },
  "vscode": {
   "interpreter": {
    "hash": "374d635f151312d2307cf40a2789094301ebf899bf64085654e3dce711a2b793"
   }
  }
 },
 "nbformat": 4,
 "nbformat_minor": 5
}
