{
 "cells": [
  {
   "cell_type": "code",
   "execution_count": 5,
   "id": "c3c999dd",
   "metadata": {},
   "outputs": [],
   "source": [
    "import inflect \n",
    "import json\n",
    "import os"
   ]
  },
  {
   "cell_type": "code",
   "execution_count": 6,
   "id": "9f108108",
   "metadata": {},
   "outputs": [
    {
     "data": {
      "text/plain": [
       "'C:\\\\Users\\\\Clarence\\\\Documents\\\\School\\\\Internship\\\\Astar\\\\UnsupervisedMultiModalLearning\\\\Astar\\\\Assets\\\\Scripts\\\\config\\\\categories.json'"
      ]
     },
     "execution_count": 6,
     "metadata": {},
     "output_type": "execute_result"
    }
   ],
   "source": [
    "p = inflect.engine()\n",
    "\n",
    "cat_filename = \"categories.json\"\n",
    "plural_json_filename = \"plural.json\"\n",
    "config_folder = \"config\"\n",
    "cat_filepath = os.path.join(os.getcwd(), config_folder, cat_filename)\n",
    "plural_filepath = os.path.join(os.getcwd(), config_folder, plural_json_filename)\n",
    "filepath"
   ]
  },
  {
   "cell_type": "code",
   "execution_count": 11,
   "id": "8f6b9e95",
   "metadata": {},
   "outputs": [
    {
     "ename": "ValueError",
     "evalue": "I/O operation on closed file.",
     "output_type": "error",
     "traceback": [
      "\u001b[1;31m---------------------------------------------------------------------------\u001b[0m",
      "\u001b[1;31mValueError\u001b[0m                                Traceback (most recent call last)",
      "\u001b[1;32m~\\AppData\\Local\\Temp/ipykernel_59716/3059900045.py\u001b[0m in \u001b[0;36m<module>\u001b[1;34m\u001b[0m\n\u001b[1;32m----> 1\u001b[1;33m \u001b[0mf\u001b[0m\u001b[1;33m.\u001b[0m\u001b[0mread\u001b[0m\u001b[1;33m(\u001b[0m\u001b[1;33m)\u001b[0m\u001b[1;33m\u001b[0m\u001b[1;33m\u001b[0m\u001b[0m\n\u001b[0m",
      "\u001b[1;31mValueError\u001b[0m: I/O operation on closed file."
     ]
    }
   ],
   "source": [
    "f.read()"
   ]
  },
  {
   "cell_type": "code",
   "execution_count": 29,
   "id": "05e3e2d9",
   "metadata": {},
   "outputs": [],
   "source": [
    "data = json.load(open(filepath))"
   ]
  },
  {
   "cell_type": "code",
   "execution_count": 30,
   "id": "ed5f2bd0",
   "metadata": {},
   "outputs": [],
   "source": [
    "plural_dict = {}\n",
    "\n",
    "for item in data.keys(): \n",
    "    if data[item][\"supercategory\"] == \"countable\": \n",
    "        plural_item = p.plural(item)\n",
    "        plural_dict[item] = plural_item \n",
    "    else: \n",
    "        plural_dict[item] = item"
   ]
  },
  {
   "cell_type": "code",
   "execution_count": 31,
   "id": "ce3b3470",
   "metadata": {},
   "outputs": [
    {
     "data": {
      "text/plain": [
       "{'apple': 'apples',\n",
       " 'onion': 'onions',\n",
       " 'avocado': 'avocados',\n",
       " 'orange': 'oranges',\n",
       " 'egg': 'eggs',\n",
       " 'carrot': 'carrots',\n",
       " 'cucumber': 'cucumbers',\n",
       " 'lemon': 'lemons',\n",
       " 'garlic': 'garlics',\n",
       " 'banana': 'bananas',\n",
       " 'grapejuicecylindricalcup': 'grapejuicecylindricalcup',\n",
       " 'cranberryjuicecylindricalcup': 'cranberryjuicecylindricalcup',\n",
       " 'blueberryjuicecylindricalcup': 'blueberryjuicecylindricalcup',\n",
       " 'orangejuicecylindricalcup': 'orangejuicecylindricalcup',\n",
       " 'grapejuicecupwithhandle': 'grapejuicecupwithhandle',\n",
       " 'cranberryjuicecupwithhandle': 'cranberryjuicecupwithhandle',\n",
       " 'blueberryjuicecupwithhandle': 'blueberryjuicecupwithhandle',\n",
       " 'orangejuicecupwithhandle': 'orangejuicecupwithhandle',\n",
       " 'vegetablejuicecupwithhandle': 'vegetablejuicecupwithhandle',\n",
       " 'vegetablejuicecylindricalcup': 'vegetablejuicecylindricalcup'}"
      ]
     },
     "execution_count": 31,
     "metadata": {},
     "output_type": "execute_result"
    }
   ],
   "source": [
    "plural_dict"
   ]
  },
  {
   "cell_type": "code",
   "execution_count": null,
   "id": "8b006c5f",
   "metadata": {},
   "outputs": [],
   "source": []
  },
  {
   "cell_type": "code",
   "execution_count": null,
   "id": "37f339d5",
   "metadata": {},
   "outputs": [],
   "source": [
    "json.dump(data, open(filename, 'wb'))"
   ]
  }
 ],
 "metadata": {
  "kernelspec": {
   "display_name": "ai_env",
   "language": "python",
   "name": "ai_env"
  },
  "language_info": {
   "codemirror_mode": {
    "name": "ipython",
    "version": 3
   },
   "file_extension": ".py",
   "mimetype": "text/x-python",
   "name": "python",
   "nbconvert_exporter": "python",
   "pygments_lexer": "ipython3",
   "version": "3.8.8"
  }
 },
 "nbformat": 4,
 "nbformat_minor": 5
}
