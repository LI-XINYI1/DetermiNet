{
 "cells": [
  {
   "cell_type": "code",
   "execution_count": 5,
   "id": "862b2673",
   "metadata": {},
   "outputs": [],
   "source": [
    "import inflect \n",
    "import json\n",
    "import os"
   ]
  },
  {
   "cell_type": "code",
   "execution_count": 33,
   "id": "f3ad888a",
   "metadata": {},
   "outputs": [
    {
     "data": {
      "text/plain": [
       "'C:\\\\Users\\\\Clarence\\\\Documents\\\\School\\\\Internship\\\\Astar\\\\UnsupervisedMultiModalLearning\\\\Astar\\\\Assets\\\\Scripts\\\\config\\\\categories.json'"
      ]
     },
     "execution_count": 33,
     "metadata": {},
     "output_type": "execute_result"
    }
   ],
   "source": [
    "p = inflect.engine()\n",
    "\n",
    "cat_filename = \"categories.json\"\n",
    "plural_json_filename = \"plural.json\"\n",
    "config_folder = \"config\"\n",
    "cat_filepath = os.path.join(os.getcwd(), config_folder, cat_filename)\n",
    "plural_filepath = os.path.join(os.getcwd(), config_folder, plural_json_filename)\n",
    "filepath"
   ]
  },
  {
   "cell_type": "code",
   "execution_count": 34,
   "id": "1b309786",
   "metadata": {},
   "outputs": [],
   "source": [
    "data = json.load(open(cat_filepath))"
   ]
  },
  {
   "cell_type": "code",
   "execution_count": 35,
   "id": "1380e065",
   "metadata": {},
   "outputs": [],
   "source": [
    "plural_dict = {}\n",
    "\n",
    "for item in data.keys(): \n",
    "    if data[item][\"supercategory\"] == \"countable\": \n",
    "        plural_item = p.plural(item)\n",
    "        plural_dict[item] = plural_item \n",
    "    else: \n",
    "        plural_dict[item] = item"
   ]
  },
  {
   "cell_type": "code",
   "execution_count": 36,
   "id": "6437c3ab",
   "metadata": {},
   "outputs": [
    {
     "data": {
      "text/plain": [
       "{'apple': 'apples',\n",
       " 'onion': 'onions',\n",
       " 'avocado': 'avocados',\n",
       " 'orange': 'oranges',\n",
       " 'egg': 'eggs',\n",
       " 'carrot': 'carrots',\n",
       " 'cucumber': 'cucumbers',\n",
       " 'lemon': 'lemons',\n",
       " 'garlic': 'garlics',\n",
       " 'banana': 'bananas',\n",
       " 'grapejuicecylindricalcup': 'grapejuicecylindricalcup',\n",
       " 'cranberryjuicecylindricalcup': 'cranberryjuicecylindricalcup',\n",
       " 'blueberryjuicecylindricalcup': 'blueberryjuicecylindricalcup',\n",
       " 'orangejuicecylindricalcup': 'orangejuicecylindricalcup',\n",
       " 'grapejuicecupwithhandle': 'grapejuicecupwithhandle',\n",
       " 'cranberryjuicecupwithhandle': 'cranberryjuicecupwithhandle',\n",
       " 'blueberryjuicecupwithhandle': 'blueberryjuicecupwithhandle',\n",
       " 'orangejuicecupwithhandle': 'orangejuicecupwithhandle',\n",
       " 'vegetablejuicecupwithhandle': 'vegetablejuicecupwithhandle',\n",
       " 'vegetablejuicecylindricalcup': 'vegetablejuicecylindricalcup'}"
      ]
     },
     "execution_count": 36,
     "metadata": {},
     "output_type": "execute_result"
    }
   ],
   "source": [
    "plural_dict"
   ]
  },
  {
   "cell_type": "code",
   "execution_count": 42,
   "id": "d0b1c615",
   "metadata": {},
   "outputs": [],
   "source": [
    "json.dump(plural_dict, open(plural_filepath, 'w'))"
   ]
  },
  {
   "cell_type": "code",
   "execution_count": null,
   "id": "6b053aa5",
   "metadata": {},
   "outputs": [],
   "source": []
  }
 ],
 "metadata": {
  "kernelspec": {
   "display_name": "ai_env",
   "language": "python",
   "name": "ai_env"
  },
  "language_info": {
   "codemirror_mode": {
    "name": "ipython",
    "version": 3
   },
   "file_extension": ".py",
   "mimetype": "text/x-python",
   "name": "python",
   "nbconvert_exporter": "python",
   "pygments_lexer": "ipython3",
   "version": "3.8.8"
  }
 },
 "nbformat": 4,
 "nbformat_minor": 5
}
